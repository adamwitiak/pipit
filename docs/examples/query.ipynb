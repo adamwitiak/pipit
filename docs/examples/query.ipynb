{
 "cells": [
  {
   "cell_type": "code",
   "execution_count": null,
   "metadata": {},
   "outputs": [],
   "source": [
    "# Set up notebook for development\n",
    "%load_ext autoreload\n",
    "%autoreload 2\n",
    "\n",
    "# Set up paths\n",
    "import sys\n",
    "\n",
    "sys.path.append(\"../../.\")\n",
    "del sys.path[0]\n",
    "\n",
    "import pipit as pp\n",
    "import pandas as pd"
   ]
  },
  {
   "cell_type": "code",
   "execution_count": null,
   "metadata": {},
   "outputs": [],
   "source": [
    "df = pd.read_pickle(\"C:/Users/Rakrish/Downloads/pingPong.pkl\", compression=\"zip\")\n",
    "trace = pp.Trace(None, df)\n",
    "trace.events"
   ]
  },
  {
   "cell_type": "code",
   "execution_count": null,
   "metadata": {},
   "outputs": [],
   "source": [
    "trace.where(\"Name\", \"==\", \"N/A\").where(\"Location ID\", \"==\", 1).orderBy(\n",
    "    \"Timestamp (ns)\", \"desc\"\n",
    ").get()"
   ]
  },
  {
   "cell_type": "code",
   "execution_count": null,
   "metadata": {},
   "outputs": [],
   "source": [
    "q1 = trace.where(\"Timestamp (ns)\", \"between\", [5, 10])\n",
    "q2 = trace.where(\"Timestamp (ns)\", \"between\", [20, 25])\n",
    "(q1 | q2).get()"
   ]
  },
  {
   "cell_type": "code",
   "execution_count": null,
   "metadata": {},
   "outputs": [],
   "source": [
    "from pipit.query import Where, And, Not, QueryBuilder\n",
    "\n",
    "q1 = Where(\"Timestamp (ns)\", \"between\", [5, 10])\n",
    "\n",
    "(\n",
    "    trace.where(\"Timestamp (ns)\", \"between\", [0, 10e10])\n",
    "    .where(\"Name\", \"==\", \"N/A\")\n",
    "    .where(\"Location ID\", \"==\", 0)\n",
    "    .limit(10)\n",
    "    .orderBy(\"Timestamp (ns)\", \"desc\")\n",
    "    .limit(5)\n",
    ").get()"
   ]
  },
  {
   "cell_type": "code",
   "execution_count": null,
   "metadata": {},
   "outputs": [],
   "source": [
    "trace.where(\"Name\", \"==\", \"N/A\").where(\"Location ID\", \"==\", 1).where(\n",
    "    \"Event\", \"==\", \"MpiRecv\"\n",
    ").limit(5).get()"
   ]
  },
  {
   "cell_type": "code",
   "execution_count": null,
   "metadata": {},
   "outputs": [],
   "source": [
    "trace.where(\"Name\", \"==\", \"N/A\").get()\n",
    "\n",
    "trace.where(\"Event\", \"in\", [\"MpiSend\", \"MpiRecv\"]).get()"
   ]
  },
  {
   "cell_type": "code",
   "execution_count": null,
   "metadata": {},
   "outputs": [],
   "source": []
  },
  {
   "cell_type": "code",
   "execution_count": null,
   "metadata": {},
   "outputs": [],
   "source": [
    "q1 = (\n",
    "    trace.where(\"Timestamp (ns)\", \"<\", 1.35e08)\n",
    "    .where(\"Name\", \"==\", \"MPI_Init\")\n",
    "    .limit(200)\n",
    ")\n",
    "q1"
   ]
  },
  {
   "cell_type": "code",
   "execution_count": null,
   "metadata": {},
   "outputs": [],
   "source": [
    "# Simple filter\n",
    "q1 = trace.where(\"Timestamp (ns)\", \"<\", 1.35e08).where(\"Name\", \"==\", \"MPI_Init\")\n",
    "q1\n",
    "\n",
    "\n",
    "q1 = trace.where(\"Timestamp (ns)\", \"between\", [2.5e05, 1.35e08]).where(\n",
    "    \"Name\", \"==\", \"MPI_Init\"\n",
    ")\n",
    "# trace.events.query(q1)\n",
    "q1\n",
    "\n",
    "q1 = trace.where(\"Timestamp (ns)\", \"between\", [0, 1.305041e08]).where(\n",
    "    \"Event\", \"==\", \"Enter\"\n",
    ")\n",
    "q1.orderBy(\"Location ID\", \"desc\").orderBy(\"Name\", \"asc\").get()"
   ]
  },
  {
   "cell_type": "code",
   "execution_count": null,
   "metadata": {},
   "outputs": [],
   "source": [
    "q1 = trace.where(\"Timestamp (ns)\", \"between\", [0, 1.305041e08]).limit(10)\n",
    "q2 = trace.where(\"Event\", \"==\", \"Enter\").limit(10)\n",
    "(q1 & q2).limit(100).orderBy(\"Name\")"
   ]
  },
  {
   "cell_type": "code",
   "execution_count": null,
   "metadata": {},
   "outputs": [],
   "source": [
    "# Execute simple filter\n",
    "trace.where(\"Timestamp (ns)\", \"<\", 1.35e08).orderBy(\"Timestamp (ns)\", \"desc\").get()"
   ]
  },
  {
   "cell_type": "code",
   "execution_count": null,
   "metadata": {},
   "outputs": [],
   "source": [
    "q1 = trace.where(\"Location ID\", \"==\", 1)\n",
    "q2 = trace.where(\"Name\", \"==\", \"N/A\")\n",
    "q3 = trace.where(\"Name\", \"==\", \"MPI_Init\")\n",
    "q4 = trace.where(\"Timestamp (ns)\", \"between\", [1.35e08, 2.5e05])\n",
    "\n",
    "# (q1 & (q2 | q3)).get()"
   ]
  },
  {
   "cell_type": "code",
   "execution_count": null,
   "metadata": {
    "scrolled": true
   },
   "outputs": [],
   "source": [
    "# Logical AND\n",
    "trace.where(\"Timestamp (ns)\", \"<=\", 1.35e08).where(\"Timestamp (ns)\", \">=\", 2.5e05).get()"
   ]
  },
  {
   "cell_type": "code",
   "execution_count": null,
   "metadata": {},
   "outputs": [],
   "source": [
    "# Logical OR\n",
    "trace.where(\"Name\", \"in\", [\"MPI_Recv\", \"MpiSend\", \"ProgramEnd\"]).get()"
   ]
  },
  {
   "cell_type": "code",
   "execution_count": null,
   "metadata": {
    "scrolled": true
   },
   "outputs": [],
   "source": [
    "trace.where(\"Timestamp (ns)\", \"between\", [1.307057e08, 1.356546e08]).get()"
   ]
  },
  {
   "cell_type": "code",
   "execution_count": null,
   "metadata": {
    "scrolled": true
   },
   "outputs": [],
   "source": [
    "trace.where(\"Timestamp (ns)\", \"between\", [1.307057e08, 1.356546e08]).where(\n",
    "    \"Location ID\", \"==\", 1\n",
    ").get()"
   ]
  },
  {
   "cell_type": "code",
   "execution_count": null,
   "metadata": {},
   "outputs": [],
   "source": [
    "q1 = (\n",
    "    QueryBuilder()\n",
    "    .where(\"Timestamp (ns)\", \">\", 0)\n",
    "    .where(\"Timestamp (ns)\", \"<\", 10)\n",
    "    #     .orderBy(\"Process\", \"asc\")\n",
    "    #     .orderBy(\"Thread\", \"desc\")\n",
    "    #     .limit(100)\n",
    ")\n",
    "trace.get(q1)"
   ]
  },
  {
   "cell_type": "code",
   "execution_count": null,
   "metadata": {
    "scrolled": true
   },
   "outputs": [],
   "source": [
    "trace.where(\"Event\", \"==\", \"ProgramBegin\")"
   ]
  },
  {
   "cell_type": "code",
   "execution_count": null,
   "metadata": {
    "scrolled": false
   },
   "outputs": [],
   "source": [
    "trace.where(\"Event\", \"==\", \"ProgramBegin\").get()"
   ]
  },
  {
   "cell_type": "code",
   "execution_count": null,
   "metadata": {},
   "outputs": [],
   "source": [
    "from pipit.query import Where, And, Or, QueryBuilder\n",
    "\n",
    "q1 = QueryBuilder(\n",
    "    Where(\"Event\", \"==\", \"ProgramBegin\") | Where(\"Event\", \"==\", \"ProgramEnd\")\n",
    ")\n",
    "q1"
   ]
  },
  {
   "cell_type": "code",
   "execution_count": null,
   "metadata": {},
   "outputs": [],
   "source": [
    "trace.where(\"Name\", \"==\", \"MPI_Init\").get()"
   ]
  },
  {
   "cell_type": "code",
   "execution_count": null,
   "metadata": {
    "scrolled": true
   },
   "outputs": [],
   "source": [
    "q1 = trace.where(\"Location ID\", \"==\", 1)\n",
    "q2 = trace.where(\"Name\", \"==\", \"N/A\")\n",
    "q3 = trace.where(\"Name\", \"==\", \"MPI_Init\")\n",
    "(q1 & (q2 | q3)).get()\n",
    "\n",
    "q1 = Where(\"Location ID\", \"==\", 1)\n",
    "q2 = Where(\"Name\", \"==\", \"N/A\")\n",
    "q3 = Where(\"Name\", \"==\", \"MPI_Init\")\n",
    "trace.query(q1 & (q2 | q3)).get()"
   ]
  },
  {
   "cell_type": "code",
   "execution_count": null,
   "metadata": {},
   "outputs": [],
   "source": [
    "trace.where(\"Location ID\", \"in\", [0, 1]).get()"
   ]
  },
  {
   "cell_type": "code",
   "execution_count": null,
   "metadata": {},
   "outputs": [],
   "source": [
    "(trace.where(\"Location ID\", \"==\", 1) | trace.where(\"Name\", \"==\", \"N/A\")).get()"
   ]
  },
  {
   "cell_type": "code",
   "execution_count": null,
   "metadata": {
    "scrolled": true
   },
   "outputs": [],
   "source": [
    "# Use pandas query\n",
    "trace.where(\"(`Location ID` == 1) & (`Timestamp (ns)` > 1.24)\").get()"
   ]
  },
  {
   "cell_type": "code",
   "execution_count": null,
   "metadata": {},
   "outputs": [],
   "source": [
    "q1 = Where(\"timestamp\", \"between\", [0, 100])\n",
    "trace.query(q1).get()"
   ]
  },
  {
   "cell_type": "code",
   "execution_count": null,
   "metadata": {},
   "outputs": [],
   "source": [
    "trace.where(\"Name\", \"==\", \"N/A\").orderBy(\"Location ID\", \"desc\").orderBy(\"Event\").get()"
   ]
  },
  {
   "cell_type": "code",
   "execution_count": null,
   "metadata": {},
   "outputs": [],
   "source": []
  }
 ],
 "metadata": {
  "kernelspec": {
   "display_name": "Python 3",
   "language": "python",
   "name": "python3"
  },
  "language_info": {
   "codemirror_mode": {
    "name": "ipython",
    "version": 3
   },
   "file_extension": ".py",
   "mimetype": "text/x-python",
   "name": "python",
   "nbconvert_exporter": "python",
   "pygments_lexer": "ipython3",
   "version": "3.10.4"
  },
  "vscode": {
   "interpreter": {
    "hash": "bd0a260ffffb4561e04cd87d5de8caba243a81f662c2d61bb21050c9b1896f2f"
   }
  }
 },
 "nbformat": 4,
 "nbformat_minor": 4
}
