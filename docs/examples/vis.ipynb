{
 "cells": [
  {
   "cell_type": "code",
   "execution_count": null,
   "id": "e5841460",
   "metadata": {},
   "outputs": [],
   "source": [
    "%load_ext autoreload\n",
    "%autoreload 2\n",
    "import sys\n",
    "\n",
    "sys.path.append(\"../../\")"
   ]
  },
  {
   "cell_type": "code",
   "execution_count": null,
   "id": "da5ebec2",
   "metadata": {},
   "outputs": [],
   "source": [
    "import pipit as pp"
   ]
  },
  {
   "cell_type": "code",
   "execution_count": null,
   "id": "7070057d",
   "metadata": {
    "scrolled": true
   },
   "outputs": [],
   "source": [
    "ping_pong = pp.Trace.from_otf2(\"../../pipit/tests/data/ping-pong-otf2\")\n",
    "ping_pong"
   ]
  },
  {
   "cell_type": "code",
   "execution_count": null,
   "id": "5906905a",
   "metadata": {},
   "outputs": [],
   "source": [
    "pp.config[\"notebook_url\"] = \"http://localhost:8889\""
   ]
  },
  {
   "cell_type": "code",
   "execution_count": null,
   "id": "93113475",
   "metadata": {
    "scrolled": true
   },
   "outputs": [],
   "source": [
    "ping_pong.plot_comm_matrix()"
   ]
  },
  {
   "cell_type": "code",
   "execution_count": null,
   "id": "a4aff933",
   "metadata": {},
   "outputs": [],
   "source": [
    "ping_pong.plot_message_histogram()"
   ]
  }
 ],
 "metadata": {
  "kernelspec": {
   "display_name": "Python 3 (ipykernel)",
   "language": "python",
   "name": "python3"
  },
  "language_info": {
   "codemirror_mode": {
    "name": "ipython",
    "version": 3
   },
   "file_extension": ".py",
   "mimetype": "text/x-python",
   "name": "python",
   "nbconvert_exporter": "python",
   "pygments_lexer": "ipython3",
   "version": "3.8.10"
  }
 },
 "nbformat": 4,
 "nbformat_minor": 5
}
