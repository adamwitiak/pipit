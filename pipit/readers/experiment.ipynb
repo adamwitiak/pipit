{
 "cells": [
  {
   "cell_type": "code",
   "execution_count": 1,
   "metadata": {},
   "outputs": [],
   "source": [
    "import sys\n",
    "sys.path.append(\"/Users/adi/School/Research/pipit\")\n",
    "\n",
    "import pipit.trace\n",
    "from pipit.graph import Graph, Node"
   ]
  },
  {
   "cell_type": "code",
   "execution_count": 2,
   "metadata": {},
   "outputs": [],
   "source": [
    "trace = pipit.trace.Trace.from_otf2(\"/Users/adi/School/Research/otf2_tracing/traces/Large_Score-P\")"
   ]
  },
  {
   "cell_type": "code",
   "execution_count": 3,
   "metadata": {},
   "outputs": [],
   "source": [
    "# can either add leave row index as calling context id or having a matching df indices column\n",
    "\n",
    "graph = Graph()\n",
    "callpath_to_node = dict()\n",
    "graph_nodes = [None for i in range(len(trace.events))]\n",
    "node_id = 0\n",
    "\n",
    "for location_id in set(trace.events[\"Location ID\"]):\n",
    "    location_df = trace.events.loc[\n",
    "        (trace.events[\"Name\"] != \"N/A\")\n",
    "        & (trace.events[\"Location ID\"] == location_id)\n",
    "    ]\n",
    "\n",
    "    curr_depth = 0\n",
    "    callpath = \"\"\n",
    "    df_indices = list(location_df.index)\n",
    "    function_names = list(location_df[\"Name\"])\n",
    "    event_types = list(location_df[\"Event Type\"])\n",
    "    functions_stack, nodes_stack  = [], []\n",
    "\n",
    "    for i in range(len(location_df)):\n",
    "        curr_df_index, evt_type, function_name = df_indices[i], event_types[i], function_names[i]\n",
    "\n",
    "        if evt_type == \"Enter\":\n",
    "            functions_stack.append(function_name)\n",
    "            callpath = \"->\".join(functions_stack)\n",
    "\n",
    "            if curr_depth == 0:\n",
    "                parent_node = None\n",
    "            else:\n",
    "                parent_node = nodes_stack[-1]\n",
    "\n",
    "            if callpath in callpath_to_node:\n",
    "                curr_node = callpath_to_node[callpath]\n",
    "            else:\n",
    "                curr_node = Node(node_id, function_name, parent_node, curr_depth)\n",
    "                callpath_to_node[callpath] = curr_node\n",
    "                node_id += 1\n",
    "\n",
    "                if curr_depth == 0:\n",
    "                    graph.add_root(curr_node)\n",
    "                else:\n",
    "                    parent_node.add_child(curr_node)\n",
    "\n",
    "            curr_node.add_calling_context_id(curr_df_index)\n",
    "            graph.add_to_map(curr_df_index, curr_node)\n",
    "            \n",
    "            nodes_stack.append(curr_node)\n",
    "            graph_nodes[curr_df_index] = curr_node\n",
    "            curr_depth += 1\n",
    "        else:\n",
    "            curr_node = nodes_stack.pop()\n",
    "            graph_nodes[curr_df_index] = curr_node\n",
    "\n",
    "            functions_stack.pop()\n",
    "            curr_depth -= 1"
   ]
  },
  {
   "cell_type": "code",
   "execution_count": 4,
   "metadata": {},
   "outputs": [],
   "source": [
    "def print_helper(list_of_nodes, depth):\n",
    "    for node in list_of_nodes:\n",
    "        print((\"---\" * depth) + node.name)\n",
    "        print_helper(node.children, depth + 1)"
   ]
  },
  {
   "cell_type": "code",
   "execution_count": null,
   "metadata": {},
   "outputs": [],
   "source": [
    "\"\"\"\n",
    "think about optimizing space by converting some of the attributes to None if dict is empty,\n",
    "or string if dict only has one key/value, or strings, if only dicts of len 1 exist, etc\n",
    "\"\"\""
   ]
  }
 ],
 "metadata": {
  "kernelspec": {
   "display_name": "Python 3.9.13 64-bit",
   "language": "python",
   "name": "python3"
  },
  "language_info": {
   "codemirror_mode": {
    "name": "ipython",
    "version": 3
   },
   "file_extension": ".py",
   "mimetype": "text/x-python",
   "name": "python",
   "nbconvert_exporter": "python",
   "pygments_lexer": "ipython3",
   "version": "3.9.13"
  },
  "orig_nbformat": 4,
  "vscode": {
   "interpreter": {
    "hash": "949777d72b0d2535278d3dc13498b2535136f6dfe0678499012e853ee9abcab1"
   }
  }
 },
 "nbformat": 4,
 "nbformat_minor": 2
}
